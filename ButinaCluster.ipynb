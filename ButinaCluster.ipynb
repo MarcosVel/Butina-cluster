{
  "nbformat": 4,
  "nbformat_minor": 0,
  "metadata": {
    "colab": {
      "provenance": []
    },
    "kernelspec": {
      "name": "python3",
      "display_name": "Python 3"
    },
    "language_info": {
      "name": "python"
    }
  },
  "cells": [
    {
      "cell_type": "markdown",
      "source": [
        "# **Explicação detalhada do agrupamento Butina**\n",
        "\n",
        "Butina clustering (J. Chem. Inf. Model. (1999), 39 (4), 747) foi desenvolvido para identificar clusters menores, mas homogêneos, com o pré-requisito de que, pelo menos, o centróide do cluster será mais semelhante do que um determinado limite a todas as outras moléculas no cluster.\n",
        "\n",
        "# **Estas são as principais etapas dessa abordagem de agrupamento:**\n",
        "\n",
        "### **1. Preparação de dados e codificação composta**\n",
        "Para identificar semelhanças químicas, os compostos nos dados de entrada (dados como SMILES) serão codificados como impressões digitais moleculares, por exemplo, impressão digital RDK5, que é uma impressão digital baseada em subgráfico semelhante à bem conhecida impressão digital Daylight (que foi usada na publicação original).\n",
        "\n",
        "### **2. Matriz de semelhança (ou distância) de Tanimoto**\n",
        "A semelhança entre duas impressões digitais é calculada usando o coeficiente de Tanimoto.\n",
        "\n",
        "A matriz com semelhanças de Tanimoto entre todos os pares possíveis de moléculas/impressões digitais é dita matriz de similaridade (**n * n**), onde n é o número de moléculas e apenas o triângulo superior da matriz é usado.\n",
        "\n",
        "Da mesma forma, a matriz das distâncias pode ser calculada (1 - similaridade).\n",
        "\n",
        "### **3. Agrupamento de moléculas: Centróides e esferas de exclusão**\n",
        "As moléculas serão grupadas se tiverem uma distância máxima abaixo de um corte especificado do centróide do cluster, se a matriz de distância for usada ou se tiverem uma semelhança mínima acima do corte especificado, se a matriz de similaridade for usada.\n",
        "\n",
        "- **Identificação de potenciais centroides de cluster**\n",
        "\n",
        "  O centróide do cluster é a molécula dentro de um determinado cluster que tem o maior número de vizinhos.\n",
        "\n",
        "  Então, conte os vizinhos: Para cada molécula, conte todas as moléculas com uma distância Tanimoto abaixo de um determinado limite.\n",
        "\n",
        "  Em seguida, ordene as moléculas pelo número de vizinhos em ordem decrescente, de modo que os centróides potenciais do cluster, isto é, os compostos com o maior número de vizinhos, sejam colocados no topo do arquivo.\n",
        "\n",
        "- **Agrupamento baseado nas esferas de exclusão**\n",
        "\n",
        "  Começando com a primeira molécula (centróide) na lista classificada.\n",
        "  \n",
        "  Todas as moléculas com um índice de Tanimoto acima ou igual ao valor de corte usado para agrupamento tornam-se membros desse agrupamento (no caso de similaridade).\n",
        "\n",
        "  Cada molécula que foi identificada como um membro do cluster dado é sinalizada e removida de outras comparações.\n",
        "\n",
        "  Assim, as moléculas sinalizadas não podem se tornar outro centróide de cluster ou um membro de outro cluster. Esse processo é como colocar uma esfera de exclusão ao redor do cluster recém-formado.\n",
        "\n",
        "  Uma vez que o primeiro composto na lista tenha encontrado todos os seus vizinhos, o primeiro composto disponível (ou seja, não sinalizado) no topo da lista torna-se o novo centróide do cluster.\n",
        "\n",
        "  O mesmo processo é repetido para todas as outras moléculas não marcadas na lista.\n",
        "\n",
        "  Moléculas que não foram sinalizadas até o final do processo de agrupamento tornam-se **singletons**.\n",
        "  \n",
        "  Observe que algumas moléculas designadas como singletons podem ter vizinhos no índice de similaridade de Tanimoto fornecido, mas esses vizinhos foram excluídos por um centróide de cluster mais forte."
      ],
      "metadata": {
        "id": "P5AuLQscrSUT"
      }
    },
    {
      "cell_type": "markdown",
      "source": [
        "# Agrupando moléculas com o algoritmo Butina\n",
        "\n",
        "- Carga dos dados e cálculo de fingerprints"
      ],
      "metadata": {
        "id": "f3qYCr1AcsSb"
      }
    },
    {
      "cell_type": "code",
      "source": [
        "!pip install rdkit"
      ],
      "metadata": {
        "colab": {
          "base_uri": "https://localhost:8080/"
        },
        "id": "TYAFXnF2bvPK",
        "outputId": "94ad2e93-aeee-4739-b71b-0a078e7eac03"
      },
      "execution_count": null,
      "outputs": [
        {
          "output_type": "stream",
          "name": "stdout",
          "text": [
            "Looking in indexes: https://pypi.org/simple, https://us-python.pkg.dev/colab-wheels/public/simple/\n",
            "Collecting rdkit\n",
            "  Downloading rdkit-2022.9.4-cp38-cp38-manylinux_2_17_x86_64.manylinux2014_x86_64.whl (29.3 MB)\n",
            "\u001b[2K     \u001b[90m━━━━━━━━━━━━━━━━━━━━━━━━━━━━━━━━━━━━━━━━\u001b[0m \u001b[32m29.3/29.3 MB\u001b[0m \u001b[31m28.1 MB/s\u001b[0m eta \u001b[36m0:00:00\u001b[0m\n",
            "\u001b[?25hRequirement already satisfied: numpy in /usr/local/lib/python3.8/dist-packages (from rdkit) (1.22.4)\n",
            "Requirement already satisfied: Pillow in /usr/local/lib/python3.8/dist-packages (from rdkit) (7.1.2)\n",
            "Installing collected packages: rdkit\n",
            "Successfully installed rdkit-2022.9.4\n"
          ]
        }
      ]
    },
    {
      "cell_type": "code",
      "source": [
        "import time\n",
        "import random\n",
        "import pandas as pd\n",
        "import numpy as np\n",
        "import matplotlib.pyplot as plt\n",
        "from rdkit import Chem\n",
        "from rdkit import DataStructs\n",
        "from rdkit.ML.Cluster import Butina\n",
        "from rdkit.Chem import Draw\n",
        "from rdkit.Chem import rdFingerprintGenerator\n",
        "\n",
        "random.seed(1000)"
      ],
      "metadata": {
        "id": "kNyBd4pjbA1F"
      },
      "execution_count": null,
      "outputs": []
    },
    {
      "cell_type": "code",
      "source": [
        "compound_df = pd.read_csv(\"EGFR_compounds_lipinski.csv\", index_col=0)\n",
        "print(\"df shape:\", compound_df.shape)\n",
        "compound_df.head()"
      ],
      "metadata": {
        "colab": {
          "base_uri": "https://localhost:8080/",
          "height": 224
        },
        "id": "QxH9dSJAkI_B",
        "outputId": "9d5a20d2-75e1-4f13-d31c-be7851c89dc8"
      },
      "execution_count": null,
      "outputs": [
        {
          "output_type": "stream",
          "name": "stdout",
          "text": [
            "df shape: (4635, 10)\n"
          ]
        },
        {
          "output_type": "execute_result",
          "data": {
            "text/plain": [
              "  molecule_chembl_id   IC50 units                               smiles  \\\n",
              "0        CHEMBL63786  0.003    nM    Brc1cccc(Nc2ncnc3cc4ccccc4cc23)c1   \n",
              "1        CHEMBL35820  0.006    nM  CCOc1cc2ncnc(Nc3cccc(Br)c3)c2cc1OCC   \n",
              "2        CHEMBL53711  0.006    nM   CN(C)c1cc2c(Nc3cccc(Br)c3)ncnc2cn1   \n",
              "3        CHEMBL66031  0.008    nM  Brc1cccc(Nc2ncnc3cc4[nH]cnc4cc23)c1   \n",
              "4        CHEMBL53753  0.008    nM      CNc1cc2c(Nc3cccc(Br)c3)ncnc2cn1   \n",
              "\n",
              "       pIC50  molecular_weight  n_hba  n_hbd    logp  ro5_fulfilled  \n",
              "0  11.522879        349.021459      3      1  5.2891           True  \n",
              "1  11.221849        387.058239      5      1  4.9333           True  \n",
              "2  11.221849        343.043258      5      1  3.5969           True  \n",
              "3  11.096910        339.011957      4      2  4.0122           True  \n",
              "4  11.096910        329.027607      5      2  3.5726           True  "
            ],
            "text/html": [
              "\n",
              "  <div id=\"df-0d76f096-7646-43fe-96e0-8ecd4094ed62\">\n",
              "    <div class=\"colab-df-container\">\n",
              "      <div>\n",
              "<style scoped>\n",
              "    .dataframe tbody tr th:only-of-type {\n",
              "        vertical-align: middle;\n",
              "    }\n",
              "\n",
              "    .dataframe tbody tr th {\n",
              "        vertical-align: top;\n",
              "    }\n",
              "\n",
              "    .dataframe thead th {\n",
              "        text-align: right;\n",
              "    }\n",
              "</style>\n",
              "<table border=\"1\" class=\"dataframe\">\n",
              "  <thead>\n",
              "    <tr style=\"text-align: right;\">\n",
              "      <th></th>\n",
              "      <th>molecule_chembl_id</th>\n",
              "      <th>IC50</th>\n",
              "      <th>units</th>\n",
              "      <th>smiles</th>\n",
              "      <th>pIC50</th>\n",
              "      <th>molecular_weight</th>\n",
              "      <th>n_hba</th>\n",
              "      <th>n_hbd</th>\n",
              "      <th>logp</th>\n",
              "      <th>ro5_fulfilled</th>\n",
              "    </tr>\n",
              "  </thead>\n",
              "  <tbody>\n",
              "    <tr>\n",
              "      <th>0</th>\n",
              "      <td>CHEMBL63786</td>\n",
              "      <td>0.003</td>\n",
              "      <td>nM</td>\n",
              "      <td>Brc1cccc(Nc2ncnc3cc4ccccc4cc23)c1</td>\n",
              "      <td>11.522879</td>\n",
              "      <td>349.021459</td>\n",
              "      <td>3</td>\n",
              "      <td>1</td>\n",
              "      <td>5.2891</td>\n",
              "      <td>True</td>\n",
              "    </tr>\n",
              "    <tr>\n",
              "      <th>1</th>\n",
              "      <td>CHEMBL35820</td>\n",
              "      <td>0.006</td>\n",
              "      <td>nM</td>\n",
              "      <td>CCOc1cc2ncnc(Nc3cccc(Br)c3)c2cc1OCC</td>\n",
              "      <td>11.221849</td>\n",
              "      <td>387.058239</td>\n",
              "      <td>5</td>\n",
              "      <td>1</td>\n",
              "      <td>4.9333</td>\n",
              "      <td>True</td>\n",
              "    </tr>\n",
              "    <tr>\n",
              "      <th>2</th>\n",
              "      <td>CHEMBL53711</td>\n",
              "      <td>0.006</td>\n",
              "      <td>nM</td>\n",
              "      <td>CN(C)c1cc2c(Nc3cccc(Br)c3)ncnc2cn1</td>\n",
              "      <td>11.221849</td>\n",
              "      <td>343.043258</td>\n",
              "      <td>5</td>\n",
              "      <td>1</td>\n",
              "      <td>3.5969</td>\n",
              "      <td>True</td>\n",
              "    </tr>\n",
              "    <tr>\n",
              "      <th>3</th>\n",
              "      <td>CHEMBL66031</td>\n",
              "      <td>0.008</td>\n",
              "      <td>nM</td>\n",
              "      <td>Brc1cccc(Nc2ncnc3cc4[nH]cnc4cc23)c1</td>\n",
              "      <td>11.096910</td>\n",
              "      <td>339.011957</td>\n",
              "      <td>4</td>\n",
              "      <td>2</td>\n",
              "      <td>4.0122</td>\n",
              "      <td>True</td>\n",
              "    </tr>\n",
              "    <tr>\n",
              "      <th>4</th>\n",
              "      <td>CHEMBL53753</td>\n",
              "      <td>0.008</td>\n",
              "      <td>nM</td>\n",
              "      <td>CNc1cc2c(Nc3cccc(Br)c3)ncnc2cn1</td>\n",
              "      <td>11.096910</td>\n",
              "      <td>329.027607</td>\n",
              "      <td>5</td>\n",
              "      <td>2</td>\n",
              "      <td>3.5726</td>\n",
              "      <td>True</td>\n",
              "    </tr>\n",
              "  </tbody>\n",
              "</table>\n",
              "</div>\n",
              "      <button class=\"colab-df-convert\" onclick=\"convertToInteractive('df-0d76f096-7646-43fe-96e0-8ecd4094ed62')\"\n",
              "              title=\"Convert this dataframe to an interactive table.\"\n",
              "              style=\"display:none;\">\n",
              "        \n",
              "  <svg xmlns=\"http://www.w3.org/2000/svg\" height=\"24px\"viewBox=\"0 0 24 24\"\n",
              "       width=\"24px\">\n",
              "    <path d=\"M0 0h24v24H0V0z\" fill=\"none\"/>\n",
              "    <path d=\"M18.56 5.44l.94 2.06.94-2.06 2.06-.94-2.06-.94-.94-2.06-.94 2.06-2.06.94zm-11 1L8.5 8.5l.94-2.06 2.06-.94-2.06-.94L8.5 2.5l-.94 2.06-2.06.94zm10 10l.94 2.06.94-2.06 2.06-.94-2.06-.94-.94-2.06-.94 2.06-2.06.94z\"/><path d=\"M17.41 7.96l-1.37-1.37c-.4-.4-.92-.59-1.43-.59-.52 0-1.04.2-1.43.59L10.3 9.45l-7.72 7.72c-.78.78-.78 2.05 0 2.83L4 21.41c.39.39.9.59 1.41.59.51 0 1.02-.2 1.41-.59l7.78-7.78 2.81-2.81c.8-.78.8-2.07 0-2.86zM5.41 20L4 18.59l7.72-7.72 1.47 1.35L5.41 20z\"/>\n",
              "  </svg>\n",
              "      </button>\n",
              "      \n",
              "  <style>\n",
              "    .colab-df-container {\n",
              "      display:flex;\n",
              "      flex-wrap:wrap;\n",
              "      gap: 12px;\n",
              "    }\n",
              "\n",
              "    .colab-df-convert {\n",
              "      background-color: #E8F0FE;\n",
              "      border: none;\n",
              "      border-radius: 50%;\n",
              "      cursor: pointer;\n",
              "      display: none;\n",
              "      fill: #1967D2;\n",
              "      height: 32px;\n",
              "      padding: 0 0 0 0;\n",
              "      width: 32px;\n",
              "    }\n",
              "\n",
              "    .colab-df-convert:hover {\n",
              "      background-color: #E2EBFA;\n",
              "      box-shadow: 0px 1px 2px rgba(60, 64, 67, 0.3), 0px 1px 3px 1px rgba(60, 64, 67, 0.15);\n",
              "      fill: #174EA6;\n",
              "    }\n",
              "\n",
              "    [theme=dark] .colab-df-convert {\n",
              "      background-color: #3B4455;\n",
              "      fill: #D2E3FC;\n",
              "    }\n",
              "\n",
              "    [theme=dark] .colab-df-convert:hover {\n",
              "      background-color: #434B5C;\n",
              "      box-shadow: 0px 1px 3px 1px rgba(0, 0, 0, 0.15);\n",
              "      filter: drop-shadow(0px 1px 2px rgba(0, 0, 0, 0.3));\n",
              "      fill: #FFFFFF;\n",
              "    }\n",
              "  </style>\n",
              "\n",
              "      <script>\n",
              "        const buttonEl =\n",
              "          document.querySelector('#df-0d76f096-7646-43fe-96e0-8ecd4094ed62 button.colab-df-convert');\n",
              "        buttonEl.style.display =\n",
              "          google.colab.kernel.accessAllowed ? 'block' : 'none';\n",
              "\n",
              "        async function convertToInteractive(key) {\n",
              "          const element = document.querySelector('#df-0d76f096-7646-43fe-96e0-8ecd4094ed62');\n",
              "          const dataTable =\n",
              "            await google.colab.kernel.invokeFunction('convertToInteractive',\n",
              "                                                     [key], {});\n",
              "          if (!dataTable) return;\n",
              "\n",
              "          const docLinkHtml = 'Like what you see? Visit the ' +\n",
              "            '<a target=\"_blank\" href=https://colab.research.google.com/notebooks/data_table.ipynb>data table notebook</a>'\n",
              "            + ' to learn more about interactive tables.';\n",
              "          element.innerHTML = '';\n",
              "          dataTable['output_type'] = 'display_data';\n",
              "          await google.colab.output.renderOutput(dataTable, element);\n",
              "          const docLink = document.createElement('div');\n",
              "          docLink.innerHTML = docLinkHtml;\n",
              "          element.appendChild(docLink);\n",
              "        }\n",
              "      </script>\n",
              "    </div>\n",
              "  </div>\n",
              "  "
            ]
          },
          "metadata": {},
          "execution_count": 5
        }
      ]
    },
    {
      "cell_type": "code",
      "source": [
        "# Create molecules from SMILES and store in array\n",
        "compounds = []\n",
        "# .itertuples() returns a (index, column1, column2, ...) tuple per row\n",
        "# we don't need index so we use _ instead\n",
        "# note how we are slicing the dataframe to only the two columns we need now\n",
        "for _, chembl_id, smiles in compound_df[[\"molecule_chembl_id\", \"smiles\"]].itertuples():\n",
        "    compounds.append((Chem.MolFromSmiles(smiles), chembl_id))\n",
        "compounds[:5]"
      ],
      "metadata": {
        "colab": {
          "base_uri": "https://localhost:8080/"
        },
        "id": "6Yof28wsbOJU",
        "outputId": "ea394c87-6476-4933-aab9-cf9b9a416ad1"
      },
      "execution_count": null,
      "outputs": [
        {
          "output_type": "execute_result",
          "data": {
            "text/plain": [
              "[(<rdkit.Chem.rdchem.Mol at 0x7f9f4acc1c10>, 'CHEMBL63786'),\n",
              " (<rdkit.Chem.rdchem.Mol at 0x7f9f4acc1cf0>, 'CHEMBL35820'),\n",
              " (<rdkit.Chem.rdchem.Mol at 0x7f9f4acc1d60>, 'CHEMBL53711'),\n",
              " (<rdkit.Chem.rdchem.Mol at 0x7f9f4acc1dd0>, 'CHEMBL66031'),\n",
              " (<rdkit.Chem.rdchem.Mol at 0x7f9f4acc1e40>, 'CHEMBL53753')]"
            ]
          },
          "metadata": {},
          "execution_count": 6
        }
      ]
    },
    {
      "cell_type": "code",
      "source": [
        "# Create fingerprints for all molecules\n",
        "rdkit_gen = rdFingerprintGenerator.GetRDKitFPGenerator(maxPath=5)\n",
        "fingerprints = [rdkit_gen.GetFingerprint(mol) for mol, idx in compounds]\n",
        "\n",
        "print(\"Number of compounds converted:\", len(fingerprints))\n",
        "print(\"Fingerprint length per compound:\", len(fingerprints[0]))\n"
      ],
      "metadata": {
        "colab": {
          "base_uri": "https://localhost:8080/"
        },
        "id": "YDXb3P3QbYze",
        "outputId": "50bfb404-a9fe-4482-fa9c-30216f7ab20e"
      },
      "execution_count": null,
      "outputs": [
        {
          "output_type": "stream",
          "name": "stdout",
          "text": [
            "Number of compounds converted: 4635\n",
            "Fingerprint length per compound: 2048\n"
          ]
        }
      ]
    },
    {
      "cell_type": "markdown",
      "source": [
        "# Calculando a matriz de similaridade e distância de Tanimoto</b></font><br>\n",
        "\n",
        "-  Com as fingerprints, passamos para a identificação dos potenciais centroides do cluster, definindo funções para calcular a similaridade e a matriz de distância de Tanimoto."
      ],
      "metadata": {
        "id": "NrDiSGLKc-rw"
      }
    },
    {
      "cell_type": "code",
      "source": [
        "def tanimoto_distance_matrix(fp_list):\n",
        "    \"\"\"Calculate distance matrix for fingerprint list\"\"\"\n",
        "    dissimilarity_matrix = []\n",
        "    # Notice how we are deliberately skipping the first and last items in the list\n",
        "    # because we don't need to compare them against themselves\n",
        "    for i in range(1, len(fp_list)):\n",
        "        # Compare the current fingerprint against all the previous ones in the list\n",
        "        similarities = DataStructs.BulkTanimotoSimilarity(fp_list[i], fp_list[:i])\n",
        "        # Since we need a distance matrix, calculate 1-x for every element in similarity matrix\n",
        "        dissimilarity_matrix.extend([1 - x for x in similarities])\n",
        "    return dissimilarity_matrix"
      ],
      "metadata": {
        "id": "RpOsk-uEdKMO"
      },
      "execution_count": null,
      "outputs": []
    },
    {
      "cell_type": "markdown",
      "source": [
        "[[Rdkit-discuss] BulkTanimotoSimilarity](https://sourceforge.net/p/rdkit/mailman/rdkit-discuss/thread/663770d4-b809-c599-e379-31f57380a1d0%40gmail.com/#msg36335970)"
      ],
      "metadata": {
        "id": "7Ck2N2GudUy8"
      }
    },
    {
      "cell_type": "code",
      "source": [
        "# Example: Calculate single similarity of two fingerprints\n",
        "\n",
        "sim = DataStructs.TanimotoSimilarity(fingerprints[0], fingerprints[1])\n",
        "print(f\"Tanimoto similarity: {sim:.2f}, distance: {1-sim:.2f}\")"
      ],
      "metadata": {
        "colab": {
          "base_uri": "https://localhost:8080/"
        },
        "id": "6qFjY15fdZuP",
        "outputId": "941dccf1-b511-4690-d731-64f8680d6ff2"
      },
      "execution_count": null,
      "outputs": [
        {
          "output_type": "stream",
          "name": "stdout",
          "text": [
            "Tanimoto similarity: 0.73, distance: 0.27\n"
          ]
        }
      ]
    },
    {
      "cell_type": "code",
      "source": [
        "# Example: Calculate distance matrix (distance = 1-similarity)\n",
        "tanimoto_distance_matrix(fingerprints)[0:5]"
      ],
      "metadata": {
        "colab": {
          "base_uri": "https://localhost:8080/"
        },
        "id": "oI3Z1_V_dhZ6",
        "outputId": "06a95d4e-f0e7-40d4-e47e-8f6979e302e9"
      },
      "execution_count": null,
      "outputs": [
        {
          "output_type": "execute_result",
          "data": {
            "text/plain": [
              "[0.26996197718631176,\n",
              " 0.26538461538461533,\n",
              " 0.40866873065015474,\n",
              " 0.09345794392523366,\n",
              " 0.31182795698924726]"
            ]
          },
          "metadata": {},
          "execution_count": 8
        }
      ]
    },
    {
      "cell_type": "markdown",
      "source": [
        "Essa amostra é na verdade uma matriz de similaridade triangular em forma de lista"
      ],
      "metadata": {
        "id": "unPykfR34tY8"
      }
    },
    {
      "cell_type": "code",
      "source": [
        "n = len(fingerprints)\n",
        "\n",
        "# Calculate number of elements in triangular matrix via n*(n-1)/2\n",
        "elem_triangular_matr = (n * (n - 1)) / 2\n",
        "print(\n",
        "    f\"Elements in the triangular matrix ({elem_triangular_matr:.0f}) ==\",\n",
        "    f\"tanimoto_distance_matrix(fingerprints) ({len(tanimoto_distance_matrix(fingerprints))})\",\n",
        ")\n"
      ],
      "metadata": {
        "colab": {
          "base_uri": "https://localhost:8080/"
        },
        "id": "sv7s1pAedsKo",
        "outputId": "488b5a10-f294-4e23-9c6f-d5db25f2e2f5"
      },
      "execution_count": null,
      "outputs": [
        {
          "output_type": "stream",
          "name": "stdout",
          "text": [
            "Elements in the triangular matrix (10739295) == tanimoto_distance_matrix(fingerprints) (10739295)\n"
          ]
        }
      ]
    },
    {
      "cell_type": "markdown",
      "source": [
        "# Agrupamento de moléculas (clustering): Identificando centróides e esferas de exclusão"
      ],
      "metadata": {
        "id": "SN-Vpa5Td4S_"
      }
    },
    {
      "cell_type": "code",
      "source": [
        "def cluster_fingerprints(fingerprints, cutoff=0.2):\n",
        "    distance_matrix = tanimoto_distance_matrix(fingerprints)\n",
        "    # Now cluster the data with the implemented Butina algorithm:\n",
        "    clusters = Butina.ClusterData(distance_matrix, len(fingerprints), cutoff, isDistData=True)\n",
        "    clusters = sorted(clusters, key=len, reverse=True)\n",
        "    return clusters"
      ],
      "metadata": {
        "id": "91AwXsqXd57S"
      },
      "execution_count": null,
      "outputs": []
    },
    {
      "cell_type": "markdown",
      "source": [
        "- Agrupamos as moléculas com base em sua semelhança de fingerprints."
      ],
      "metadata": {
        "id": "gi1ATvtVeDDo"
      }
    },
    {
      "cell_type": "code",
      "source": [
        "clusters = cluster_fingerprints(fingerprints, cutoff=0.2)\n",
        "\n",
        "# Numbers of clusters and their sizes\n",
        "num_clust_g1 = sum(1 for c in clusters if len(c) == 1)\n",
        "num_clust_g5 = sum(1 for c in clusters if len(c) > 5)\n",
        "num_clust_g25 = sum(1 for c in clusters if len(c) > 25)\n",
        "num_clust_g100 = sum(1 for c in clusters if len(c) > 100)\n",
        "\n",
        "print(\"total # clusters: \", len(clusters))\n",
        "print(\"# clusters with only 1 compound: \", num_clust_g1)\n",
        "print(\"# clusters with >5 compounds: \", num_clust_g5)\n",
        "print(\"# clusters with >25 compounds: \", num_clust_g25)\n",
        "print(\"# clusters with >100 compounds: \", num_clust_g100)\n"
      ],
      "metadata": {
        "colab": {
          "base_uri": "https://localhost:8080/"
        },
        "id": "QA-BJm9HeEOy",
        "outputId": "2b62b6d5-4f0f-4b0f-a22b-7a0d68efdde7"
      },
      "execution_count": null,
      "outputs": [
        {
          "output_type": "stream",
          "name": "stdout",
          "text": [
            "total # clusters:  1128\n",
            "# clusters with only 1 compound:  592\n",
            "# clusters with >5 compounds:  185\n",
            "# clusters with >25 compounds:  25\n",
            "# clusters with >100 compounds:  2\n"
          ]
        }
      ]
    },
    {
      "cell_type": "code",
      "source": [
        "# Plot of the size of the clusters\n",
        "fig, ax = plt.subplots(figsize=(15, 4))\n",
        "ax.set_xlabel(\"Clusters index\")\n",
        "ax.set_ylabel(\"Number of molecules\")\n",
        "ax.bar(range(1, len(clusters) + 1), [len(c) for c in clusters], lw=5);"
      ],
      "metadata": {
        "colab": {
          "base_uri": "https://localhost:8080/",
          "height": 279
        },
        "id": "aG49mMHkeQX3",
        "outputId": "9666732c-d10e-4c3b-a8b5-20e950a27166"
      },
      "execution_count": null,
      "outputs": [
        {
          "output_type": "display_data",
          "data": {
            "text/plain": [
              "<Figure size 1080x288 with 1 Axes>"
            ],
            "image/png": "[encoded data removed]"
          },
          "metadata": {
            "needs_background": "light"
          }
        }
      ]
    },
    {
      "cell_type": "markdown",
      "source": [
        "\n",
        "- Como escolher um ponto de corte razoável?\n",
        "\n",
        "- Como o resultado do agrupamento depende do limite escolhido, vamos testar cinco agrupamentos com cutoff diferentes."
      ],
      "metadata": {
        "id": "_WiLtiU5eijj"
      }
    },
    {
      "cell_type": "code",
      "source": [
        "for cutoff in np.arange(0.0, 1.0, 0.2):\n",
        "    clusters = cluster_fingerprints(fingerprints, cutoff=cutoff)\n",
        "    fig, ax = plt.subplots(figsize=(15, 4))\n",
        "    ax.set_title(f\"Threshold: {cutoff:3.1f}\")\n",
        "    ax.set_xlabel(\"Cluster index\")\n",
        "    ax.set_ylabel(\"Number of molecules\")\n",
        "    ax.bar(range(1, len(clusters) + 1), [len(c) for c in clusters], lw=5)\n",
        "    plt.tight_layout()"
      ],
      "metadata": {
        "colab": {
          "base_uri": "https://localhost:8080/",
          "height": 1000
        },
        "id": "8RdOO7GeekgK",
        "outputId": "e226f7ce-df80-464f-c570-a5686fccec4c"
      },
      "execution_count": null,
      "outputs": [
        {
          "output_type": "display_data",
          "data": {
            "text/plain": [
              "<Figure size 1080x288 with 1 Axes>"
            ],
            "image/png": "[encoded data removed]"
          },
          "metadata": {
            "needs_background": "light"
          }
        },
        {
          "output_type": "display_data",
          "data": {
            "text/plain": [
              "<Figure size 1080x288 with 1 Axes>"
            ],
            "image/png": "[encoded data removed]"
          },
          "metadata": {
            "needs_background": "light"
          }
        },
        {
          "output_type": "display_data",
          "data": {
            "text/plain": [
              "<Figure size 1080x288 with 1 Axes>"
            ],
            "image/png": "[encoded data removed]"
          },
          "metadata": {
            "needs_background": "light"
          }
        },
        {
          "output_type": "display_data",
          "data": {
            "text/plain": [
              "<Figure size 1080x288 with 1 Axes>"
            ],
            "image/png": "[encoded data removed]"
          },
          "metadata": {
            "needs_background": "light"
          }
        },
        {
          "output_type": "display_data",
          "data": {
            "text/plain": [
              "<Figure size 1080x288 with 1 Axes>"
            ],
            "image/png": "[encoded data removed]"
          },
          "metadata": {
            "needs_background": "light"
          }
        }
      ]
    },
    {
      "cell_type": "markdown",
      "source": [
        "- Como se pode ver, quanto maior o ponto de corte, mais moléculas são consideradas semelhantes e, portanto, agrupadas em menos grupos. Quanto menor esse ponto, menores os clusters e “singletons” aparecem.\n",
        "\n",
        "- *Quanto menor o cutoff, mais semelhantes os compostos devem ser para pertencer a um mesmo cluster.*\n",
        "\n",
        "- Olhando para os gráficos acima, decidimos escolher um limite de distância de 0,2. Não há muitos singletons e os tamanhos dos clusters não têm uma distribuição extrema, mas suave."
      ],
      "metadata": {
        "id": "m8IHu9fXfclm"
      }
    },
    {
      "cell_type": "code",
      "source": [
        "cutoff = 0.2\n",
        "clusters = cluster_fingerprints(fingerprints, cutoff=cutoff)\n",
        "\n",
        "# Plot the size of the clusters - save plot\n",
        "fig, ax = plt.subplots(figsize=(15, 4))\n",
        "ax.set_xlabel(\"Cluster index\")\n",
        "ax.set_ylabel(\"# molecules\")\n",
        "ax.bar(range(1, len(clusters) + 1), [len(c) for c in clusters])\n",
        "ax.set_title(f\"Threshold: {cutoff:3.1f}\")\n",
        "\n",
        "fig.savefig(\n",
        "    f\"cluster_dist_cutoff_{cutoff:4.2f}.png\",\n",
        "    dpi=300,\n",
        "    bbox_inches=\"tight\",\n",
        "    transparent=True,\n",
        ")\n",
        "\n",
        "print(f\"Number of clusters: {len(clusters)} from {len(compounds)} molecules at distance cut-off {cutoff:.2f}\")\n",
        "print(\"Number of molecules in largest cluster:\", len(clusters[0]))\n",
        "print(f\"Similarity between two random points in same cluster: {DataStructs.TanimotoSimilarity(fingerprints[clusters[0][0]], fingerprints[clusters[0][1]]):.2f}\")\n",
        "print(f\"Similarity between two random points in different cluster: {DataStructs.TanimotoSimilarity(fingerprints[clusters[0][0]], fingerprints[clusters[1][0]]):.2f}\")\n",
        "print(\"\")"
      ],
      "metadata": {
        "colab": {
          "base_uri": "https://localhost:8080/",
          "height": 382
        },
        "id": "jNO3iR90fiGX",
        "outputId": "ac4c1c76-ea5e-4f4c-ce8e-ace5e704467d"
      },
      "execution_count": null,
      "outputs": [
        {
          "output_type": "stream",
          "name": "stdout",
          "text": [
            "Number of clusters: 1128 from 4635 molecules at distance cut-off 0.20\n",
            "Number of molecules in largest cluster: 145\n",
            "Similarity between two random points in same cluster: 0.82\n",
            "Similarity between two random points in different cluster: 0.22\n",
            "\n"
          ]
        },
        {
          "output_type": "display_data",
          "data": {
            "text/plain": [
              "<Figure size 1080x288 with 1 Axes>"
            ],
            "image/png": "[encoded data removed]"
          },
          "metadata": {
            "needs_background": "light"
          }
        }
      ]
    },
    {
      "cell_type": "markdown",
      "source": [
        "- Classificando os clusters por tamanho e as moléculas em cada cluster por similaridade."
      ],
      "metadata": {
        "id": "DtVJAoiJlHww"
      }
    },
    {
      "cell_type": "code",
      "source": [
        "# Sort the molecules within a cluster based on their similarity\n",
        "# to the cluster center and sort the clusters based on their size\n",
        "sorted_clusters = []\n",
        "for cluster in clusters:\n",
        "    if len(cluster) <= 1:\n",
        "        continue  # Singletons\n",
        "    # else:\n",
        "    # Compute fingerprints for each cluster element\n",
        "    sorted_fingerprints = [rdkit_gen.GetFingerprint(compounds[i][0]) for i in cluster]\n",
        "    # Similarity of all cluster members to the cluster center\n",
        "    similarities = DataStructs.BulkTanimotoSimilarity(\n",
        "        sorted_fingerprints[0], sorted_fingerprints[1:]\n",
        "    )\n",
        "    # Add index of the molecule to its similarity (centroid excluded!)\n",
        "    similarities = list(zip(similarities, cluster[1:]))\n",
        "    # Sort in descending order by similarity\n",
        "    similarities.sort(reverse=True)\n",
        "    # Save cluster size and index of molecules in clusters_sort\n",
        "    sorted_clusters.append((len(similarities), [i for _, i in similarities]))\n",
        "    # Sort in descending order by cluster size\n",
        "    sorted_clusters.sort(reverse=True)"
      ],
      "metadata": {
        "id": "SiyNUIfPlOh8"
      },
      "execution_count": null,
      "outputs": []
    },
    {
      "cell_type": "markdown",
      "source": [
        "- Salvamos o arquivo de clusters e moléculas, classificado, com os dados no ponto de corte escolhido para futura referência."
      ],
      "metadata": {
        "id": "xk9JR6ssZjUT"
      }
    },
    {
      "cell_type": "code",
      "source": [
        "np.savetxt(\"np_sorted_clusters.csv\", sorted_clusters, delimiter =\",\",fmt ='% s')"
      ],
      "metadata": {
        "colab": {
          "base_uri": "https://localhost:8080/"
        },
        "id": "flsMAhvOfwU2",
        "outputId": "ce6cd416-f52b-474c-9be0-08cbe58f1614"
      },
      "execution_count": null,
      "outputs": [
        {
          "output_type": "stream",
          "name": "stderr",
          "text": [
            "/usr/local/lib/python3.8/dist-packages/numpy/lib/npyio.py:1393: VisibleDeprecationWarning: Creating an ndarray from ragged nested sequences (which is a list-or-tuple of lists-or-tuples-or ndarrays with different lengths or shapes) is deprecated. If you meant to do this, you must specify 'dtype=object' when creating the ndarray.\n",
            "  X = np.asarray(X)\n"
          ]
        }
      ]
    },
    {
      "cell_type": "code",
      "source": [
        "print(sorted_clusters[-4:-1])"
      ],
      "metadata": {
        "id": "4Yr4mwIvX7tb",
        "colab": {
          "base_uri": "https://localhost:8080/"
        },
        "outputId": "ea05b542-b447-4e84-ef1c-5d5e45b85cfd"
      },
      "execution_count": null,
      "outputs": [
        {
          "output_type": "stream",
          "name": "stdout",
          "text": [
            "[(1, [83]), (1, [56]), (1, [53])]\n"
          ]
        }
      ]
    },
    {
      "cell_type": "code",
      "source": [
        "print(sorted_clusters[29])"
      ],
      "metadata": {
        "colab": {
          "base_uri": "https://localhost:8080/"
        },
        "id": "_T5CsWuKGZBS",
        "outputId": "44bd2054-ddb1-4ab9-96df-8ce1ea47bc13"
      },
      "execution_count": null,
      "outputs": [
        {
          "output_type": "stream",
          "name": "stdout",
          "text": [
            "(22, [2489, 3435, 4331, 2088, 1709, 4471, 2025, 2682, 3215, 2485, 3837, 4479, 1777, 3662, 3809, 2139, 3742, 3864, 3709, 2296, 1151, 808])\n"
          ]
        }
      ]
    },
    {
      "cell_type": "markdown",
      "source": [
        "# Análise dos tempos de execução\n",
        "\n",
        "- No final podemos variar o tamanho do conjunto de dados e ver como o tempo de execução do clustering Butina muda."
      ],
      "metadata": {
        "id": "UUPFDhxwlzfN"
      }
    },
    {
      "cell_type": "code",
      "source": [
        "# Reuse old dataset\n",
        "sampled_mols = compounds.copy()"
      ],
      "metadata": {
        "id": "9nUcbp12mA--"
      },
      "execution_count": null,
      "outputs": []
    },
    {
      "cell_type": "markdown",
      "source": [
        "- Podemos experimentar conjuntos de dados maiores, mas tamanhos de dados maiores que 10.000 já começam a consumir mais memória e tempo e é por isso que paramos por aí."
      ],
      "metadata": {
        "id": "UgF7vk6jmK_C"
      }
    },
    {
      "cell_type": "code",
      "source": [
        "# Helper function for time computation\n",
        "def measure_runtime(sampled_mols):\n",
        "    start_time = time.time()\n",
        "    sampled_fingerprints = [rdkit_gen.GetFingerprint(m) for m, idx in sampled_mols]\n",
        "    # Run the clustering with the dataset\n",
        "    sampled_clusters = cluster_fingerprints(sampled_fingerprints, cutoff=0.3)\n",
        "    return time.time() - start_time"
      ],
      "metadata": {
        "id": "FL-pNikxmMdj"
      },
      "execution_count": null,
      "outputs": []
    },
    {
      "cell_type": "code",
      "source": [
        "len(sampled_mols)\n"
      ],
      "metadata": {
        "colab": {
          "base_uri": "https://localhost:8080/"
        },
        "id": "brBp0hslmeka",
        "outputId": "96efdd1c-1bf9-4d1c-b36c-ffa6e6bd680d"
      },
      "execution_count": null,
      "outputs": [
        {
          "output_type": "execute_result",
          "data": {
            "text/plain": [
              "4635"
            ]
          },
          "metadata": {},
          "execution_count": 34
        }
      ]
    },
    {
      "cell_type": "code",
      "source": [
        "sample_sizes = [100, 500, 1000, 2000, 4000]\n",
        "runtimes = []\n",
        "# Take random samples with replacement\n",
        "for size in sample_sizes:\n",
        "    time_taken = measure_runtime(random.sample(sampled_mols, size))\n",
        "    print(f\"Dataset size {size}, time {time_taken:4.2f} seconds\")\n",
        "    runtimes.append(time_taken)"
      ],
      "metadata": {
        "colab": {
          "base_uri": "https://localhost:8080/"
        },
        "id": "8sd7p6RRmkuO",
        "outputId": "c5cf0e80-d1b2-4ea0-f85f-d80c16a51dcd"
      },
      "execution_count": null,
      "outputs": [
        {
          "output_type": "stream",
          "name": "stdout",
          "text": [
            "Dataset size 100, time 0.13 seconds\n",
            "Dataset size 500, time 0.61 seconds\n",
            "Dataset size 1000, time 1.15 seconds\n",
            "Dataset size 2000, time 2.12 seconds\n",
            "Dataset size 4000, time 6.20 seconds\n"
          ]
        }
      ]
    },
    {
      "cell_type": "code",
      "source": [
        "fig, ax = plt.subplots()\n",
        "ax.set_title(\"Runtime measurement of Butina Clustering /n with different dataset sizes\")\n",
        "ax.set_xlabel(\"# Molecules in data set\")\n",
        "ax.set_ylabel(\"Runtime in seconds\")\n",
        "ax.plot(sample_sizes, runtimes, \"g^\");"
      ],
      "metadata": {
        "colab": {
          "base_uri": "https://localhost:8080/",
          "height": 295
        },
        "id": "glk2-nXPmu5v",
        "outputId": "e0d9d113-1149-49b3-a7e1-5efc1a70a1bc"
      },
      "execution_count": null,
      "outputs": [
        {
          "output_type": "display_data",
          "data": {
            "text/plain": [
              "<Figure size 432x288 with 1 Axes>"
            ],
            "image/png": "[encoded data removed]"
          },
          "metadata": {
            "needs_background": "light"
          }
        }
      ]
    },
    {
      "cell_type": "markdown",
      "source": [
        "- Observamos que o tempo de execução não é exatamente proporcional ao tamanho da amostra! Ele cresce mais rápido!"
      ],
      "metadata": {
        "id": "yl7eFik9m4C3"
      }
    }
  ]
}