{
  "nbformat": 4,
  "nbformat_minor": 0,
  "metadata": {
    "colab": {
      "provenance": [],
      "toc_visible": true
    },
    "kernelspec": {
      "name": "python3",
      "display_name": "Python 3"
    },
    "language_info": {
      "name": "python"
    },
    "accelerator": "TPU",
    "gpuClass": "standard"
  },
  "cells": [
    {
      "cell_type": "markdown",
      "source": [
        "# Agrupando moléculas com o algoritmo Butina\n",
        "\n",
        "- Carga dos dados e cálculo de fingerprints"
      ],
      "metadata": {
        "id": "f3qYCr1AcsSb"
      }
    },
    {
      "cell_type": "code",
      "source": [
        "!pip install rdkit pyspark findspark"
      ],
      "metadata": {
        "colab": {
          "base_uri": "https://localhost:8080/"
        },
        "id": "TYAFXnF2bvPK",
        "outputId": "bfc5896a-2af9-4728-b663-dc85f9668d88"
      },
      "execution_count": 1,
      "outputs": [
        {
          "output_type": "stream",
          "name": "stdout",
          "text": [
            "Looking in indexes: https://pypi.org/simple, https://us-python.pkg.dev/colab-wheels/public/simple/\n",
            "Collecting rdkit\n",
            "  Downloading rdkit-2022.9.5-cp38-cp38-manylinux_2_17_x86_64.manylinux2014_x86_64.whl (29.4 MB)\n",
            "\u001b[2K     \u001b[90m━━━━━━━━━━━━━━━━━━━━━━━━━━━━━━━━━━━━━━━━\u001b[0m \u001b[32m29.4/29.4 MB\u001b[0m \u001b[31m47.9 MB/s\u001b[0m eta \u001b[36m0:00:00\u001b[0m\n",
            "\u001b[?25hCollecting pyspark\n",
            "  Downloading pyspark-3.3.2.tar.gz (281.4 MB)\n",
            "\u001b[2K     \u001b[90m━━━━━━━━━━━━━━━━━━━━━━━━━━━━━━━━━━━━━━━\u001b[0m \u001b[32m281.4/281.4 MB\u001b[0m \u001b[31m3.4 MB/s\u001b[0m eta \u001b[36m0:00:00\u001b[0m\n",
            "\u001b[?25h  Preparing metadata (setup.py) ... \u001b[?25l\u001b[?25hdone\n",
            "Collecting findspark\n",
            "  Downloading findspark-2.0.1-py2.py3-none-any.whl (4.4 kB)\n",
            "Requirement already satisfied: Pillow in /usr/local/lib/python3.8/dist-packages (from rdkit) (8.4.0)\n",
            "Requirement already satisfied: numpy in /usr/local/lib/python3.8/dist-packages (from rdkit) (1.22.4)\n",
            "Collecting py4j==0.10.9.5\n",
            "  Downloading py4j-0.10.9.5-py2.py3-none-any.whl (199 kB)\n",
            "\u001b[2K     \u001b[90m━━━━━━━━━━━━━━━━━━━━━━━━━━━━━━━━━━━━━━\u001b[0m \u001b[32m199.7/199.7 KB\u001b[0m \u001b[31m18.7 MB/s\u001b[0m eta \u001b[36m0:00:00\u001b[0m\n",
            "\u001b[?25hBuilding wheels for collected packages: pyspark\n",
            "  Building wheel for pyspark (setup.py) ... \u001b[?25l\u001b[?25hdone\n",
            "  Created wheel for pyspark: filename=pyspark-3.3.2-py2.py3-none-any.whl size=281824025 sha256=5eae66cbfbaabed204085a3f5e7045f79d8e847d96cea1aa699e86ba1e1b1c52\n",
            "  Stored in directory: /root/.cache/pip/wheels/b1/59/a0/a1a0624b5e865fd389919c1a10f53aec9b12195d6747710baf\n",
            "Successfully built pyspark\n",
            "Installing collected packages: py4j, findspark, rdkit, pyspark\n",
            "Successfully installed findspark-2.0.1 py4j-0.10.9.5 pyspark-3.3.2 rdkit-2022.9.5\n"
          ]
        }
      ]
    },
    {
      "cell_type": "code",
      "source": [
        "import time\n",
        "import random\n",
        "import pandas as pd\n",
        "import numpy as np\n",
        "import matplotlib.pyplot as plt\n",
        "import findspark\n",
        "from rdkit import Chem\n",
        "from rdkit import DataStructs\n",
        "from rdkit.ML.Cluster import Butina\n",
        "from rdkit.Chem import Draw\n",
        "from rdkit.Chem import rdFingerprintGenerator\n",
        "from pyspark import SparkContext, SparkConf\n",
        "\n",
        "findspark.init()\n",
        "# random.seed(2023)"
      ],
      "metadata": {
        "id": "kNyBd4pjbA1F"
      },
      "execution_count": 2,
      "outputs": []
    },
    {
      "cell_type": "code",
      "source": [
        "conf = SparkConf().setAppName(\"Matrix Calculation\").setMaster(\"local[*]\")\n",
        "sc = SparkContext.getOrCreate(conf=conf)\n",
        "\n",
        "digits = 16\n",
        "rows = 5000\n",
        "num_partitions = 4\n",
        "\n",
        "# criar RDD a partir dos dados\n",
        "data_rdd = sc.parallelize(np.random.randint(0, 2, size=(digits, rows)), num_partitions)\n",
        "\n",
        "# executar operação em paralelo para criar array numpy\n",
        "data = np.array(data_rdd.collect())\n",
        "\n",
        "data"
      ],
      "metadata": {
        "colab": {
          "base_uri": "https://localhost:8080/"
        },
        "id": "_sB5pj438EjC",
        "outputId": "2aa85c33-b7bd-4d51-8c48-da52dd06a2b7"
      },
      "execution_count": 3,
      "outputs": [
        {
          "output_type": "execute_result",
          "data": {
            "text/plain": [
              "array([[1, 0, 1, ..., 0, 1, 1],\n",
              "       [1, 1, 1, ..., 0, 0, 1],\n",
              "       [1, 1, 0, ..., 1, 1, 0],\n",
              "       ...,\n",
              "       [0, 0, 0, ..., 0, 1, 1],\n",
              "       [1, 0, 1, ..., 1, 1, 0],\n",
              "       [0, 0, 0, ..., 0, 0, 1]])"
            ]
          },
          "metadata": {},
          "execution_count": 3
        }
      ]
    },
    {
      "cell_type": "markdown",
      "source": [
        "# Calculando a matriz de similaridade e distância de Tanimoto</b></font><br>\n",
        "\n",
        "-  Com as fingerprints, passamos para a identificação dos potenciais centroides do cluster, definindo funções para calcular a similaridade e a matriz de distância de Tanimoto."
      ],
      "metadata": {
        "id": "NrDiSGLKc-rw"
      }
    },
    {
      "cell_type": "code",
      "source": [
        "# def tanimoto_distance_matrix(fps):\n",
        "#     fps = np.array(fps, dtype=np.int8)\n",
        "#     dist_mat = np.zeros((len(fps), len(fps)), dtype=np.float32)\n",
        "#     for i, fp in enumerate(fps):\n",
        "#         fp = fp.reshape(1, -1)\n",
        "#         dot_prod = np.sum(np.outer(fp, fps[i+1:]).flatten(), axis=0)\n",
        "#         mag = np.sum(fp) + np.sum(fps[i+1:], axis=1)\n",
        "#         dist_mat[i, i+1:] = 1.0 - (dot_prod / (mag - dot_prod))\n",
        "#     return dist_mat + np.triu(dist_mat.T, 1)"
      ],
      "metadata": {
        "id": "M3Rdz0bdsY7V"
      },
      "execution_count": 4,
      "outputs": []
    },
    {
      "cell_type": "code",
      "source": [
        "def tanimoto_distance_matrix(fp_list):\n",
        "    \"\"\"Calculate distance matrix for fingerprint list\"\"\"\n",
        "    n = len(fp_list)\n",
        "    distance_matrix = np.zeros((n, n))\n",
        "    for i in range(n):\n",
        "        for j in range(i+1, n):\n",
        "            distance_matrix[i, j] = 1 - DataStructs.TanimotoSimilarity(fp_list[i], fp_list[j])\n",
        "            distance_matrix[j, i] = distance_matrix[i, j]\n",
        "    return distance_matrix"
      ],
      "metadata": {
        "id": "mzemXCc39Bfh"
      },
      "execution_count": 5,
      "outputs": []
    },
    {
      "cell_type": "code",
      "source": [
        "# Convert rows in data array to fingerprints and store in a list\n",
        "fingerprints = [DataStructs.cDataStructs.CreateFromBitString('0'*digits + ''.join(map(str, row))) for row in data.T]\n",
        "\n",
        "# Calculate distance matrix for fingerprints\n",
        "distance_matrix = tanimoto_distance_matrix(fingerprints)\n",
        "\n",
        "# Print distance matrix\n",
        "print(distance_matrix)"
      ],
      "metadata": {
        "colab": {
          "base_uri": "https://localhost:8080/"
        },
        "id": "Ds3cZdTsQn1V",
        "outputId": "b541e08e-4e7a-4825-8348-fc03d79ecea0"
      },
      "execution_count": 6,
      "outputs": [
        {
          "output_type": "stream",
          "name": "stdout",
          "text": [
            "[[0.         0.54545455 0.27272727 ... 0.41666667 0.53333333 0.57142857]\n",
            " [0.54545455 0.         0.7        ... 0.7        0.66666667 0.72727273]\n",
            " [0.27272727 0.7        0.         ... 0.66666667 0.73333333 0.69230769]\n",
            " ...\n",
            " [0.41666667 0.7        0.66666667 ... 0.         0.53846154 0.78571429]\n",
            " [0.53333333 0.66666667 0.73333333 ... 0.53846154 0.         0.57142857]\n",
            " [0.57142857 0.72727273 0.69230769 ... 0.78571429 0.57142857 0.        ]]\n"
          ]
        }
      ]
    },
    {
      "cell_type": "code",
      "source": [
        "# Example: Calculate single similarity of two fingerprints\n",
        "\n",
        "sim = DataStructs.TanimotoSimilarity(fingerprints[0], fingerprints[1])\n",
        "print(f\"Tanimoto similarity: {sim:.2f}, distance: {1-sim:.2f}\")"
      ],
      "metadata": {
        "colab": {
          "base_uri": "https://localhost:8080/"
        },
        "id": "6qFjY15fdZuP",
        "outputId": "df62f602-ef8e-4320-82fe-f669537ac21a"
      },
      "execution_count": 7,
      "outputs": [
        {
          "output_type": "stream",
          "name": "stdout",
          "text": [
            "Tanimoto similarity: 0.45, distance: 0.55\n"
          ]
        }
      ]
    },
    {
      "cell_type": "markdown",
      "source": [
        "# Agrupamento de moléculas (clustering): Identificando centróides e esferas de exclusão"
      ],
      "metadata": {
        "id": "SN-Vpa5Td4S_"
      }
    },
    {
      "cell_type": "code",
      "source": [
        "def cluster_fingerprints(fingerprints, cutoff):\n",
        "    # Calculate the Tanimoto distance matrix\n",
        "    distances = []\n",
        "    for i in range(len(fingerprints)):\n",
        "        for j in range(i+1, len(fingerprints)):\n",
        "            d = 1 - DataStructs.TanimotoSimilarity(fingerprints[i], fingerprints[j])\n",
        "            distances.append((float(d)))\n",
        "    # Cluster the fingerprints using the Butina algorithm\n",
        "    clusters = Butina.ClusterData(distances, len(fingerprints), cutoff, isDistData=True)\n",
        "    return clusters"
      ],
      "metadata": {
        "id": "_t0L8ezsdynH"
      },
      "execution_count": 8,
      "outputs": []
    },
    {
      "cell_type": "markdown",
      "source": [
        "- Tanimoto distance matrix separado para print de cada cluster"
      ],
      "metadata": {
        "id": "QJa7cjGhflWg"
      }
    },
    {
      "cell_type": "code",
      "source": [
        "# # Calculate the Tanimoto distance matrix\n",
        "# distances = []\n",
        "# for i in range(len(fingerprints)):\n",
        "#     for j in range(i+1, len(fingerprints)):\n",
        "#         d = 1 - DataStructs.TanimotoSimilarity(fingerprints[i], fingerprints[j])\n",
        "#         distances.append((float(d)))"
      ],
      "metadata": {
        "id": "TpwoEQ4pZTlC"
      },
      "execution_count": 9,
      "outputs": []
    },
    {
      "cell_type": "code",
      "source": [
        "# # Cluster the fingerprints using the Butina algorithm\n",
        "# clusters = Butina.ClusterData(distances, len(fingerprints), 0.5, isDistData=True)\n",
        "\n",
        "# # Print the number of clusters and the cluster assignments for each fingerprint\n",
        "# print(f\"Number of clusters: {len(clusters)}\")\n",
        "# for i, cluster in enumerate(clusters):\n",
        "#     print(f\"Fingerprint {i} belongs to cluster {cluster}\")"
      ],
      "metadata": {
        "id": "Qabm5JlUO6Gc"
      },
      "execution_count": 10,
      "outputs": []
    },
    {
      "cell_type": "markdown",
      "source": [
        "- Agrupamos as moléculas com base em sua semelhança de fingerprints."
      ],
      "metadata": {
        "id": "gi1ATvtVeDDo"
      }
    },
    {
      "cell_type": "code",
      "source": [
        "clusters = cluster_fingerprints(fingerprints, 0.5)\n",
        "\n",
        "# Numbers of clusters and their sizes\n",
        "num_clust_g1 = sum(1 for c in clusters if len(c) == 1)\n",
        "num_clust_g5 = sum(1 for c in clusters if len(c) > 5)\n",
        "num_clust_g25 = sum(1 for c in clusters if len(c) > 25)\n",
        "num_clust_g100 = sum(1 for c in clusters if len(c) > 100)\n",
        "\n",
        "print(\"total # clusters: \", len(clusters))\n",
        "print(\"# clusters with only 1 compound: \", num_clust_g1)\n",
        "print(\"# clusters with >5 compounds: \", num_clust_g5)\n",
        "print(\"# clusters with >25 compounds: \", num_clust_g25)\n",
        "print(\"# clusters with >100 compounds: \", num_clust_g100)"
      ],
      "metadata": {
        "colab": {
          "base_uri": "https://localhost:8080/"
        },
        "id": "QA-BJm9HeEOy",
        "outputId": "5b637647-538c-4c82-9261-9add9d8bd6ac"
      },
      "execution_count": 11,
      "outputs": [
        {
          "output_type": "stream",
          "name": "stdout",
          "text": [
            "total # clusters:  46\n",
            "# clusters with only 1 compound:  9\n",
            "# clusters with >5 compounds:  24\n",
            "# clusters with >25 compounds:  14\n",
            "# clusters with >100 compounds:  7\n"
          ]
        }
      ]
    },
    {
      "cell_type": "code",
      "source": [
        "# Plot of the size of the clusters\n",
        "fig, ax = plt.subplots(figsize=(15, 4))\n",
        "ax.set_xlabel(\"Clusters index\")\n",
        "ax.set_ylabel(\"Number of molecules\")\n",
        "ax.bar(range(1, len(clusters) + 1), [len(c) for c in clusters], lw=5);"
      ],
      "metadata": {
        "colab": {
          "base_uri": "https://localhost:8080/",
          "height": 279
        },
        "id": "aG49mMHkeQX3",
        "outputId": "9391cc16-15d6-4816-ddc6-708c538101fd"
      },
      "execution_count": 12,
      "outputs": [
        {
          "output_type": "display_data",
          "data": {
            "text/plain": [
              "<Figure size 1080x288 with 1 Axes>"
            ],
            "image/png": "[encoded data removed]"
          },
          "metadata": {
            "needs_background": "light"
          }
        }
      ]
    },
    {
      "cell_type": "markdown",
      "source": [
        "\n",
        "- Como escolher um ponto de corte razoável?\n",
        "\n",
        "- Como o resultado do agrupamento depende do limite escolhido, vamos testar cinco agrupamentos com cutoff diferentes."
      ],
      "metadata": {
        "id": "_WiLtiU5eijj"
      }
    },
    {
      "cell_type": "code",
      "source": [
        "for cutoff in np.arange(0.0, 1.0, 0.2):\n",
        "    clusters = cluster_fingerprints(fingerprints, cutoff=cutoff)\n",
        "    fig, ax = plt.subplots(figsize=(15, 4))\n",
        "    ax.set_title(f\"Threshold: {cutoff:3.1f}\")\n",
        "    ax.set_xlabel(\"Cluster index\")\n",
        "    ax.set_ylabel(\"Number of molecules\")\n",
        "    ax.bar(range(1, len(clusters) + 1), [len(c) for c in clusters], lw=5)\n",
        "    plt.tight_layout()"
      ],
      "metadata": {
        "colab": {
          "base_uri": "https://localhost:8080/",
          "height": 1000
        },
        "id": "8RdOO7GeekgK",
        "outputId": "f92cf3c1-cb9b-40b8-e0f1-3d830001f0bc"
      },
      "execution_count": 13,
      "outputs": [
        {
          "output_type": "display_data",
          "data": {
            "text/plain": [
              "<Figure size 1080x288 with 1 Axes>"
            ],
            "image/png": "[encoded data removed]"
          },
          "metadata": {
            "needs_background": "light"
          }
        },
        {
          "output_type": "display_data",
          "data": {
            "text/plain": [
              "<Figure size 1080x288 with 1 Axes>"
            ],
            "image/png": "[encoded data removed]"
          },
          "metadata": {
            "needs_background": "light"
          }
        },
        {
          "output_type": "display_data",
          "data": {
            "text/plain": [
              "<Figure size 1080x288 with 1 Axes>"
            ],
            "image/png": "[encoded data removed]"
          },
          "metadata": {
            "needs_background": "light"
          }
        },
        {
          "output_type": "display_data",
          "data": {
            "text/plain": [
              "<Figure size 1080x288 with 1 Axes>"
            ],
            "image/png": "[encoded data removed]"
          },
          "metadata": {
            "needs_background": "light"
          }
        },
        {
          "output_type": "display_data",
          "data": {
            "text/plain": [
              "<Figure size 1080x288 with 1 Axes>"
            ],
            "image/png": "[encoded data removed]"
          },
          "metadata": {
            "needs_background": "light"
          }
        }
      ]
    },
    {
      "cell_type": "markdown",
      "source": [
        "- Como se pode ver, quanto maior o ponto de corte, mais moléculas são consideradas semelhantes e, portanto, agrupadas em menos grupos. Quanto menor esse ponto, menores os clusters e “singletons” aparecem.\n",
        "\n",
        "- *Quanto menor o cutoff, mais semelhantes os compostos devem ser para pertencer a um mesmo cluster.*"
      ],
      "metadata": {
        "id": "m8IHu9fXfclm"
      }
    },
    {
      "cell_type": "code",
      "source": [
        "cutoff = 0.5\n",
        "clusters = cluster_fingerprints(fingerprints, cutoff=cutoff)\n",
        "\n",
        "# Plot the size of the clusters - save plot\n",
        "fig, ax = plt.subplots(figsize=(15, 4))\n",
        "ax.set_xlabel(\"Cluster index\")\n",
        "ax.set_ylabel(\"# molecules\")\n",
        "ax.bar(range(1, len(clusters) + 1), [len(c) for c in clusters])\n",
        "ax.set_title(f\"Threshold: {cutoff:3.1f}\")\n",
        "\n",
        "fig.savefig(\n",
        "    f\"cluster_dist_cutoff_{cutoff:4.2f}.png\",\n",
        "    dpi=300,\n",
        "    bbox_inches=\"tight\",\n",
        "    transparent=True,\n",
        ")\n",
        "\n",
        "print(f\"Number of clusters: {len(clusters)} from {len(fingerprints)} molecules at distance cut-off {cutoff:.2f}\")\n",
        "print(\"Number of molecules in largest cluster:\", len(clusters[0]))\n",
        "print(f\"Similarity between two random points in same cluster: {DataStructs.TanimotoSimilarity(fingerprints[clusters[0][0]], fingerprints[clusters[0][1]]):.2f}\")\n",
        "print(f\"Similarity between two random points in different cluster: {DataStructs.TanimotoSimilarity(fingerprints[clusters[0][0]], fingerprints[clusters[1][0]]):.2f}\")\n",
        "print(\"\")"
      ],
      "metadata": {
        "colab": {
          "base_uri": "https://localhost:8080/",
          "height": 382
        },
        "id": "jNO3iR90fiGX",
        "outputId": "e38d7da3-fd49-4866-827f-5d128a6614a5"
      },
      "execution_count": 14,
      "outputs": [
        {
          "output_type": "stream",
          "name": "stdout",
          "text": [
            "Number of clusters: 46 from 5000 molecules at distance cut-off 0.50\n",
            "Number of molecules in largest cluster: 1816\n",
            "Similarity between two random points in same cluster: 0.14\n",
            "Similarity between two random points in different cluster: 0.70\n",
            "\n"
          ]
        },
        {
          "output_type": "display_data",
          "data": {
            "text/plain": [
              "<Figure size 1080x288 with 1 Axes>"
            ],
            "image/png": "[encoded data removed]"
          },
          "metadata": {
            "needs_background": "light"
          }
        }
      ]
    },
    {
      "cell_type": "markdown",
      "source": [
        "- Classificando os clusters por tamanho e as moléculas em cada cluster por similaridade."
      ],
      "metadata": {
        "id": "DtVJAoiJlHww"
      }
    },
    {
      "cell_type": "code",
      "source": [
        "# Define the fingerprint generator (still need to use \n",
        "# rdFingerprintGenerator.GetRDKitFPGenerator(maxPath=5) \n",
        "# to define the fingerprint generator, because \n",
        "# DataStructs.BulkTanimotoSimilarity expects RDKit fingerprints as input)\n",
        "rdkit_gen = rdFingerprintGenerator.GetRDKitFPGenerator(maxPath=5)\n",
        "\n",
        "# Sort the molecules within a cluster based on their similarity\n",
        "# to the cluster center and sort the clusters based on their size\n",
        "sorted_clusters = []\n",
        "for cluster in clusters:\n",
        "    if len(cluster) <= 1:\n",
        "        continue  # Singletons\n",
        "    # else:\n",
        "    # Compute fingerprints for each cluster element\n",
        "    sorted_fingerprints = [fingerprints[i] for i in cluster]\n",
        "    # Similarity of all cluster members to the cluster center\n",
        "    similarities = DataStructs.BulkTanimotoSimilarity(\n",
        "        sorted_fingerprints[0], sorted_fingerprints[1:]\n",
        "    )\n",
        "    # Add index of the molecule to its similarity (centroid excluded!)\n",
        "    similarities = list(zip(similarities, cluster[1:]))\n",
        "    # Sort in descending order by similarity\n",
        "    similarities.sort(reverse=True)\n",
        "    # Save cluster size and index of molecules in clusters_sort\n",
        "    sorted_clusters.append((len(similarities), [i for _, i in similarities]))\n",
        "    # Sort in descending order by cluster size\n",
        "    sorted_clusters.sort(reverse=True)"
      ],
      "metadata": {
        "id": "SiyNUIfPlOh8"
      },
      "execution_count": 15,
      "outputs": []
    },
    {
      "cell_type": "code",
      "source": [
        "print(sorted_clusters[-4:-1])"
      ],
      "metadata": {
        "id": "4Yr4mwIvX7tb",
        "colab": {
          "base_uri": "https://localhost:8080/"
        },
        "outputId": "e469ed0c-9ea6-496f-ae46-d6e91dbfedd3"
      },
      "execution_count": 16,
      "outputs": [
        {
          "output_type": "stream",
          "name": "stdout",
          "text": [
            "[(1, [4526]), (1, [4465]), (1, [4060])]\n"
          ]
        }
      ]
    },
    {
      "cell_type": "code",
      "source": [
        "print(sorted_clusters[29])"
      ],
      "metadata": {
        "colab": {
          "base_uri": "https://localhost:8080/"
        },
        "id": "_T5CsWuKGZBS",
        "outputId": "e7108763-2ee8-464a-e815-aa57553010e5"
      },
      "execution_count": 17,
      "outputs": [
        {
          "output_type": "stream",
          "name": "stdout",
          "text": [
            "(3, [4608, 3802, 4818])\n"
          ]
        }
      ]
    },
    {
      "cell_type": "markdown",
      "source": [
        "# Análise dos tempos de execução\n",
        "\n",
        "- No final podemos variar o tamanho do conjunto de dados e ver como o tempo de execução do clustering Butina muda."
      ],
      "metadata": {
        "id": "UUPFDhxwlzfN"
      }
    },
    {
      "cell_type": "code",
      "source": [
        "# Helper function for time computation\n",
        "def measure_runtime(size):\n",
        "    start_time = time.time()\n",
        "    sampled_data = sc.parallelize(np.random.randint(0, 2, size=(digits, size)), num_partitions)\n",
        "    sampled_mols = np.array(sampled_data.collect())\n",
        "    sampled_fingerprints = [DataStructs.cDataStructs.CreateFromBitString('0'*digits + ''.join(map(str, row))) for row in sampled_mols.T]\n",
        "    # Run the clustering with the dataset\n",
        "    sampled_clusters = cluster_fingerprints(sampled_fingerprints, cutoff=0.5)\n",
        "    return time.time() - start_time"
      ],
      "metadata": {
        "id": "FL-pNikxmMdj"
      },
      "execution_count": 18,
      "outputs": []
    },
    {
      "cell_type": "code",
      "source": [
        "sample_sizes = [100, 500, 1000, 2000, 4000]\n",
        "runtimes = []\n",
        "# Take random samples with replacement\n",
        "for size in sample_sizes:\n",
        "    time_taken = measure_runtime(size)\n",
        "    print(f\"Dataset size {size}, time {time_taken:4.2f} seconds\")\n",
        "    runtimes.append(time_taken)"
      ],
      "metadata": {
        "colab": {
          "base_uri": "https://localhost:8080/"
        },
        "id": "8sd7p6RRmkuO",
        "outputId": "96db90d2-6a73-4254-d000-71ef6dad5d82"
      },
      "execution_count": 19,
      "outputs": [
        {
          "output_type": "stream",
          "name": "stdout",
          "text": [
            "Dataset size 100, time 0.17 seconds\n",
            "Dataset size 500, time 0.60 seconds\n",
            "Dataset size 1000, time 1.25 seconds\n",
            "Dataset size 2000, time 6.29 seconds\n",
            "Dataset size 4000, time 21.24 seconds\n"
          ]
        }
      ]
    },
    {
      "cell_type": "code",
      "source": [
        "fig, ax = plt.subplots()\n",
        "ax.set_title(\"Runtime measurement of Butina Clustering /n with different dataset sizes\")\n",
        "ax.set_xlabel(\"# Molecules in data set\")\n",
        "ax.set_ylabel(\"Runtime in seconds\")\n",
        "ax.plot(sample_sizes, runtimes, \"g^\");"
      ],
      "metadata": {
        "colab": {
          "base_uri": "https://localhost:8080/",
          "height": 295
        },
        "id": "glk2-nXPmu5v",
        "outputId": "260b610a-8527-4b07-dac7-fb5bfd18b8b5"
      },
      "execution_count": 20,
      "outputs": [
        {
          "output_type": "display_data",
          "data": {
            "text/plain": [
              "<Figure size 432x288 with 1 Axes>"
            ],
            "image/png": "[encoded data removed]"
          },
          "metadata": {
            "needs_background": "light"
          }
        }
      ]
    },
    {
      "cell_type": "markdown",
      "source": [
        "- Observamos que o tempo de execução não é exatamente proporcional ao tamanho da amostra! Ele cresce mais rápido!"
      ],
      "metadata": {
        "id": "bhQQykaFvPZr"
      }
    }
  ]
}